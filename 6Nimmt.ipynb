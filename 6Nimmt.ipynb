{
 "cells": [
  {
   "cell_type": "markdown",
   "id": "9572ae61-b0f6-49c9-b311-1e46c1927593",
   "metadata": {},
   "source": [
    "# 6 Nimmt"
   ]
  },
  {
   "cell_type": "markdown",
   "id": "634b4cd4-cecd-41f9-a259-576d9fa90dd6",
   "metadata": {},
   "source": [
    "#### Schritt 1: Strategie Random"
   ]
  },
  {
   "cell_type": "code",
   "execution_count": 1,
   "id": "a952fd41-c0c6-4fab-88e6-b8cb46cce709",
   "metadata": {},
   "outputs": [
    {
     "name": "stdout",
     "output_type": "stream",
     "text": [
      "Enter the number of players: 4\n",
      "Player 1's hand: ['84 (Penalty Points: 1)', '69 (Penalty Points: 1)', '73 (Penalty Points: 1)', '55 (Penalty Points: 7)', '75 (Penalty Points: 2)', '62 (Penalty Points: 1)', '86 (Penalty Points: 1)', '53 (Penalty Points: 1)', '85 (Penalty Points: 2)', '58 (Penalty Points: 1)']\n",
      "Player 2's hand: ['98 (Penalty Points: 1)', '72 (Penalty Points: 1)', '82 (Penalty Points: 1)', '14 (Penalty Points: 1)', '57 (Penalty Points: 1)', '21 (Penalty Points: 1)', '9 (Penalty Points: 5)', '83 (Penalty Points: 1)', '87 (Penalty Points: 1)', '80 (Penalty Points: 3)']\n",
      "Player 3's hand: ['32 (Penalty Points: 1)', '68 (Penalty Points: 1)', '40 (Penalty Points: 3)', '66 (Penalty Points: 5)', '16 (Penalty Points: 1)', '105 (Penalty Points: 2)', '90 (Penalty Points: 3)', '109 (Penalty Points: 1)', '103 (Penalty Points: 1)', '104 (Penalty Points: 1)']\n",
      "Player 4's hand: ['94 (Penalty Points: 1)', '77 (Penalty Points: 5)', '64 (Penalty Points: 1)', '49 (Penalty Points: 1)', '23 (Penalty Points: 1)', '30 (Penalty Points: 3)', '107 (Penalty Points: 1)', '5 (Penalty Points: 2)', '37 (Penalty Points: 1)', '56 (Penalty Points: 1)']\n",
      "Middle pile 1: ['74 (Penalty Points: 1)']\n",
      "Middle pile 2: ['1 (Penalty Points: 5)']\n",
      "Middle pile 3: ['41 (Penalty Points: 1)']\n",
      "Middle pile 4: ['76 (Penalty Points: 1)']\n"
     ]
    }
   ],
   "source": [
    "# Importing the necessary libraries\n",
    "import random\n",
    "\n",
    "# Class for a card\n",
    "class Card:\n",
    "    def __init__(self, value):\n",
    "        self.value = value\n",
    "        self.minus_points = self.calculate_minus_points(value)\n",
    "\n",
    "    def calculate_minus_points(self, value):\n",
    "        if value == 55:  # Card with the value 55 always has 7 penalty points\n",
    "            return 7\n",
    "        elif value % 10 == 0:  # Divisible by 10\n",
    "            return 3\n",
    "        elif value % 5 == 0:  # Ends with 5\n",
    "            return 2\n",
    "        elif str(value) == str(value)[::-1]:  # Palindrome (same forwards and backwards)\n",
    "            return 5\n",
    "        else:\n",
    "            return 1\n",
    "\n",
    "    def __str__(self):\n",
    "        return f\"{self.value} (Penalty Points: {self.minus_points})\"\n",
    "\n",
    "# Class for a deck of cards\n",
    "class Deck:\n",
    "    def __init__(self):\n",
    "        self.cards = [Card(value) for value in range(1, 111)]\n",
    "        random.shuffle(self.cards)\n",
    "\n",
    "    def deal(self):\n",
    "        return self.cards.pop() if self.cards else None\n",
    "\n",
    "# Class for a player\n",
    "class Player:\n",
    "    def __init__(self, name):\n",
    "        self.name = name\n",
    "        self.hand = []\n",
    "\n",
    "    def draw_card(self, deck):\n",
    "        card = deck.deal()\n",
    "        if card:\n",
    "            self.hand.append(card)\n",
    "\n",
    "# Function to conduct the game\n",
    "def play_game(num_players):\n",
    "    # Creating the deck and players\n",
    "    deck = Deck()\n",
    "    players = [Player(f\"Player {i+1}\") for i in range(num_players)]\n",
    "\n",
    "    # Each player draws 10 cards\n",
    "    for _ in range(10):\n",
    "        for player in players:\n",
    "            player.draw_card(deck)\n",
    "\n",
    "    # Creating four piles in the middle, starting with one card each\n",
    "    middle_piles = [[] for _ in range(4)]\n",
    "    \n",
    "    for pile in middle_piles:\n",
    "        initial_card = deck.deal()\n",
    "        if initial_card:\n",
    "            pile.append(initial_card)\n",
    "\n",
    "    # Outputting the hands of the players\n",
    "    for player in players:\n",
    "        print(f\"{player.name}'s hand: {[str(card) for card in player.hand]}\")\n",
    "\n",
    "    # Outputting the piles in the middle\n",
    "    for i, pile in enumerate(middle_piles):\n",
    "        print(f\"Middle pile {i + 1}: {[str(card) for card in pile]}\")\n",
    "\n",
    "# Setting the number of players and starting the game \n",
    "num_players = int(input(\"Enter the number of players: \"))\n",
    "play_game(num_players)"
   ]
  },
  {
   "cell_type": "code",
   "execution_count": null,
   "id": "8cebe750",
   "metadata": {},
   "outputs": [],
   "source": []
  }
 ],
 "metadata": {
  "kernelspec": {
   "display_name": "Python 3 (ipykernel)",
   "language": "python",
   "name": "python3"
  },
  "language_info": {
   "codemirror_mode": {
    "name": "ipython",
    "version": 3
   },
   "file_extension": ".py",
   "mimetype": "text/x-python",
   "name": "python",
   "nbconvert_exporter": "python",
   "pygments_lexer": "ipython3",
   "version": "3.12.3"
  }
 },
 "nbformat": 4,
 "nbformat_minor": 5
}
