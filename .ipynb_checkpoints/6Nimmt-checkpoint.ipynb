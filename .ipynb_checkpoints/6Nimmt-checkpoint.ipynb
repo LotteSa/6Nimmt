{
 "cells": [
  {
   "cell_type": "markdown",
   "id": "9572ae61-b0f6-49c9-b311-1e46c1927593",
   "metadata": {},
   "source": [
    "# 6 Nimmt"
   ]
  },
  {
   "cell_type": "markdown",
   "id": "634b4cd4-cecd-41f9-a259-576d9fa90dd6",
   "metadata": {},
   "source": [
    "#### Schritt 1: Strategie Random"
   ]
  },
  {
   "cell_type": "code",
   "execution_count": null,
   "id": "a952fd41-c0c6-4fab-88e6-b8cb46cce709",
   "metadata": {},
   "outputs": [],
   "source": []
  }
 ],
 "metadata": {
  "kernelspec": {
   "display_name": "Python [conda env:base] *",
   "language": "python",
   "name": "conda-base-py"
  },
  "language_info": {
   "codemirror_mode": {
    "name": "ipython",
    "version": 3
   },
   "file_extension": ".py",
   "mimetype": "text/x-python",
   "name": "python",
   "nbconvert_exporter": "python",
   "pygments_lexer": "ipython3",
   "version": "3.12.2"
  }
 },
 "nbformat": 4,
 "nbformat_minor": 5
}
